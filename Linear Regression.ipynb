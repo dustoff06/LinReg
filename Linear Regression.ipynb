{
 "cells": [
  {
   "cell_type": "markdown",
   "id": "worldwide-representative",
   "metadata": {},
   "source": [
    "# Load Libraries"
   ]
  },
  {
   "cell_type": "code",
   "execution_count": 8,
   "id": "changing-finish",
   "metadata": {},
   "outputs": [],
   "source": [
    "import numpy as np\n",
    "from sklearn.linear_model import LinearRegression\n",
    "from sklearn.linear_model import Ridge\n",
    "from sklearn.linear_model import Lasso\n",
    "from sklearn.linear_model import ElasticNet\n",
    "from sklearn import datasets\n",
    "from sklearn.model_selection import train_test_split as tts\n",
    "import statsmodels.api as sm\n",
    "from statsmodels.stats.anova import anova_lm\n",
    "import pandas as pd\n"
   ]
  },
  {
   "cell_type": "markdown",
   "id": "elementary-founder",
   "metadata": {},
   "source": [
    "# Load Iris Data"
   ]
  },
  {
   "cell_type": "code",
   "execution_count": 9,
   "id": "sudden-restriction",
   "metadata": {},
   "outputs": [
    {
     "data": {
      "text/plain": [
       "array([[1.4, 0.2, 1. , 0. ],\n",
       "       [1.4, 0.2, 1. , 0. ],\n",
       "       [1.3, 0.2, 1. , 0. ],\n",
       "       [1.5, 0.2, 1. , 0. ],\n",
       "       [1.4, 0.2, 1. , 0. ],\n",
       "       [1.7, 0.4, 1. , 0. ],\n",
       "       [1.4, 0.3, 1. , 0. ],\n",
       "       [1.5, 0.2, 1. , 0. ],\n",
       "       [1.4, 0.2, 1. , 0. ],\n",
       "       [1.5, 0.1, 1. , 0. ],\n",
       "       [1.5, 0.2, 1. , 0. ],\n",
       "       [1.6, 0.2, 1. , 0. ],\n",
       "       [1.4, 0.1, 1. , 0. ],\n",
       "       [1.1, 0.1, 1. , 0. ],\n",
       "       [1.2, 0.2, 1. , 0. ],\n",
       "       [1.5, 0.4, 1. , 0. ],\n",
       "       [1.3, 0.4, 1. , 0. ],\n",
       "       [1.4, 0.3, 1. , 0. ],\n",
       "       [1.7, 0.3, 1. , 0. ],\n",
       "       [1.5, 0.3, 1. , 0. ],\n",
       "       [1.7, 0.2, 1. , 0. ],\n",
       "       [1.5, 0.4, 1. , 0. ],\n",
       "       [1. , 0.2, 1. , 0. ],\n",
       "       [1.7, 0.5, 1. , 0. ],\n",
       "       [1.9, 0.2, 1. , 0. ],\n",
       "       [1.6, 0.2, 1. , 0. ],\n",
       "       [1.6, 0.4, 1. , 0. ],\n",
       "       [1.5, 0.2, 1. , 0. ],\n",
       "       [1.4, 0.2, 1. , 0. ],\n",
       "       [1.6, 0.2, 1. , 0. ],\n",
       "       [1.6, 0.2, 1. , 0. ],\n",
       "       [1.5, 0.4, 1. , 0. ],\n",
       "       [1.5, 0.1, 1. , 0. ],\n",
       "       [1.4, 0.2, 1. , 0. ],\n",
       "       [1.5, 0.2, 1. , 0. ],\n",
       "       [1.2, 0.2, 1. , 0. ],\n",
       "       [1.3, 0.2, 1. , 0. ],\n",
       "       [1.4, 0.1, 1. , 0. ],\n",
       "       [1.3, 0.2, 1. , 0. ],\n",
       "       [1.5, 0.2, 1. , 0. ],\n",
       "       [1.3, 0.3, 1. , 0. ],\n",
       "       [1.3, 0.3, 1. , 0. ],\n",
       "       [1.3, 0.2, 1. , 0. ],\n",
       "       [1.6, 0.6, 1. , 0. ],\n",
       "       [1.9, 0.4, 1. , 0. ],\n",
       "       [1.4, 0.3, 1. , 0. ],\n",
       "       [1.6, 0.2, 1. , 0. ],\n",
       "       [1.4, 0.2, 1. , 0. ],\n",
       "       [1.5, 0.2, 1. , 0. ],\n",
       "       [1.4, 0.2, 1. , 0. ],\n",
       "       [4.7, 1.4, 0. , 1. ],\n",
       "       [4.5, 1.5, 0. , 1. ],\n",
       "       [4.9, 1.5, 0. , 1. ],\n",
       "       [4. , 1.3, 0. , 1. ],\n",
       "       [4.6, 1.5, 0. , 1. ],\n",
       "       [4.5, 1.3, 0. , 1. ],\n",
       "       [4.7, 1.6, 0. , 1. ],\n",
       "       [3.3, 1. , 0. , 1. ],\n",
       "       [4.6, 1.3, 0. , 1. ],\n",
       "       [3.9, 1.4, 0. , 1. ],\n",
       "       [3.5, 1. , 0. , 1. ],\n",
       "       [4.2, 1.5, 0. , 1. ],\n",
       "       [4. , 1. , 0. , 1. ],\n",
       "       [4.7, 1.4, 0. , 1. ],\n",
       "       [3.6, 1.3, 0. , 1. ],\n",
       "       [4.4, 1.4, 0. , 1. ],\n",
       "       [4.5, 1.5, 0. , 1. ],\n",
       "       [4.1, 1. , 0. , 1. ],\n",
       "       [4.5, 1.5, 0. , 1. ],\n",
       "       [3.9, 1.1, 0. , 1. ],\n",
       "       [4.8, 1.8, 0. , 1. ],\n",
       "       [4. , 1.3, 0. , 1. ],\n",
       "       [4.9, 1.5, 0. , 1. ],\n",
       "       [4.7, 1.2, 0. , 1. ],\n",
       "       [4.3, 1.3, 0. , 1. ],\n",
       "       [4.4, 1.4, 0. , 1. ],\n",
       "       [4.8, 1.4, 0. , 1. ],\n",
       "       [5. , 1.7, 0. , 1. ],\n",
       "       [4.5, 1.5, 0. , 1. ],\n",
       "       [3.5, 1. , 0. , 1. ],\n",
       "       [3.8, 1.1, 0. , 1. ],\n",
       "       [3.7, 1. , 0. , 1. ],\n",
       "       [3.9, 1.2, 0. , 1. ],\n",
       "       [5.1, 1.6, 0. , 1. ],\n",
       "       [4.5, 1.5, 0. , 1. ],\n",
       "       [4.5, 1.6, 0. , 1. ],\n",
       "       [4.7, 1.5, 0. , 1. ],\n",
       "       [4.4, 1.3, 0. , 1. ],\n",
       "       [4.1, 1.3, 0. , 1. ],\n",
       "       [4. , 1.3, 0. , 1. ],\n",
       "       [4.4, 1.2, 0. , 1. ],\n",
       "       [4.6, 1.4, 0. , 1. ],\n",
       "       [4. , 1.2, 0. , 1. ],\n",
       "       [3.3, 1. , 0. , 1. ],\n",
       "       [4.2, 1.3, 0. , 1. ],\n",
       "       [4.2, 1.2, 0. , 1. ],\n",
       "       [4.2, 1.3, 0. , 1. ],\n",
       "       [4.3, 1.3, 0. , 1. ],\n",
       "       [3. , 1.1, 0. , 1. ],\n",
       "       [4.1, 1.3, 0. , 1. ],\n",
       "       [6. , 2.5, 0. , 0. ],\n",
       "       [5.1, 1.9, 0. , 0. ],\n",
       "       [5.9, 2.1, 0. , 0. ],\n",
       "       [5.6, 1.8, 0. , 0. ],\n",
       "       [5.8, 2.2, 0. , 0. ],\n",
       "       [6.6, 2.1, 0. , 0. ],\n",
       "       [4.5, 1.7, 0. , 0. ],\n",
       "       [6.3, 1.8, 0. , 0. ],\n",
       "       [5.8, 1.8, 0. , 0. ],\n",
       "       [6.1, 2.5, 0. , 0. ],\n",
       "       [5.1, 2. , 0. , 0. ],\n",
       "       [5.3, 1.9, 0. , 0. ],\n",
       "       [5.5, 2.1, 0. , 0. ],\n",
       "       [5. , 2. , 0. , 0. ],\n",
       "       [5.1, 2.4, 0. , 0. ],\n",
       "       [5.3, 2.3, 0. , 0. ],\n",
       "       [5.5, 1.8, 0. , 0. ],\n",
       "       [6.7, 2.2, 0. , 0. ],\n",
       "       [6.9, 2.3, 0. , 0. ],\n",
       "       [5. , 1.5, 0. , 0. ],\n",
       "       [5.7, 2.3, 0. , 0. ],\n",
       "       [4.9, 2. , 0. , 0. ],\n",
       "       [6.7, 2. , 0. , 0. ],\n",
       "       [4.9, 1.8, 0. , 0. ],\n",
       "       [5.7, 2.1, 0. , 0. ],\n",
       "       [6. , 1.8, 0. , 0. ],\n",
       "       [4.8, 1.8, 0. , 0. ],\n",
       "       [4.9, 1.8, 0. , 0. ],\n",
       "       [5.6, 2.1, 0. , 0. ],\n",
       "       [5.8, 1.6, 0. , 0. ],\n",
       "       [6.1, 1.9, 0. , 0. ],\n",
       "       [6.4, 2. , 0. , 0. ],\n",
       "       [5.6, 2.2, 0. , 0. ],\n",
       "       [5.1, 1.5, 0. , 0. ],\n",
       "       [5.6, 1.4, 0. , 0. ],\n",
       "       [6.1, 2.3, 0. , 0. ],\n",
       "       [5.6, 2.4, 0. , 0. ],\n",
       "       [5.5, 1.8, 0. , 0. ],\n",
       "       [4.8, 1.8, 0. , 0. ],\n",
       "       [5.4, 2.1, 0. , 0. ],\n",
       "       [5.6, 2.4, 0. , 0. ],\n",
       "       [5.1, 2.3, 0. , 0. ],\n",
       "       [5.1, 1.9, 0. , 0. ],\n",
       "       [5.9, 2.3, 0. , 0. ],\n",
       "       [5.7, 2.5, 0. , 0. ],\n",
       "       [5.2, 2.3, 0. , 0. ],\n",
       "       [5. , 1.9, 0. , 0. ],\n",
       "       [5.2, 2. , 0. , 0. ],\n",
       "       [5.4, 2.3, 0. , 0. ],\n",
       "       [5.1, 1.8, 0. , 0. ]])"
      ]
     },
     "execution_count": 9,
     "metadata": {},
     "output_type": "execute_result"
    }
   ],
   "source": [
    "iris = datasets.load_iris()\n",
    "y=iris.data[:,0]\n",
    "X=iris.data[:,1:4]\n",
    "mydf=pd.DataFrame(iris.target,columns=['type'])\n",
    "mydf['type']=mydf['type'].astype('category')\n",
    "mydf=pd.get_dummies(mydf)\n",
    "mydf=pd.concat([pd.DataFrame(iris.data[:,2:4]),mydf], axis=1)\n",
    "X=mydf.values\n",
    "X=X[:,0:4]\n",
    "X"
   ]
  },
  {
   "cell_type": "markdown",
   "id": "random-wagon",
   "metadata": {},
   "source": [
    "# Train Test Split"
   ]
  },
  {
   "cell_type": "code",
   "execution_count": 10,
   "id": "balanced-japanese",
   "metadata": {},
   "outputs": [],
   "source": [
    "X_train, X_test, y_train, y_test = tts(X,y, test_size=0.2, random_state=42)"
   ]
  },
  {
   "cell_type": "markdown",
   "id": "agreed-architecture",
   "metadata": {},
   "source": [
    "# Linear Model"
   ]
  },
  {
   "cell_type": "code",
   "execution_count": 11,
   "id": "biblical-market",
   "metadata": {},
   "outputs": [],
   "source": [
    "model = LinearRegression().fit(X_train, y_train)"
   ]
  },
  {
   "cell_type": "markdown",
   "id": "breeding-exclusive",
   "metadata": {},
   "source": [
    "# Coefficients & R^2"
   ]
  },
  {
   "cell_type": "code",
   "execution_count": 12,
   "id": "opponent-tension",
   "metadata": {},
   "outputs": [
    {
     "name": "stdout",
     "output_type": "stream",
     "text": [
      "Coefficients: [ 0.9778683  -0.1314786   2.2063472   0.54777183]\n",
      "Scores:  0.8326508540242339 0.8392303490720187\n"
     ]
    }
   ],
   "source": [
    "print(\"Coefficients:\",model.coef_)\n",
    "print(\"Scores: \", model.score(X_train,y_train), model.score(X_test, y_test))"
   ]
  },
  {
   "cell_type": "markdown",
   "id": "usual-gentleman",
   "metadata": {},
   "source": [
    "# With StatsModels"
   ]
  },
  {
   "cell_type": "code",
   "execution_count": 13,
   "id": "respiratory-birthday",
   "metadata": {},
   "outputs": [
    {
     "name": "stdout",
     "output_type": "stream",
     "text": [
      "                            OLS Regression Results                            \n",
      "==============================================================================\n",
      "Dep. Variable:                      y   R-squared:                       0.833\n",
      "Model:                            OLS   Adj. R-squared:                  0.827\n",
      "Method:                 Least Squares   F-statistic:                     143.0\n",
      "Date:                Mon, 19 Apr 2021   Prob (F-statistic):           1.12e-43\n",
      "Time:                        09:47:05   Log-Likelihood:                -39.252\n",
      "No. Observations:                 120   AIC:                             88.50\n",
      "Df Residuals:                     115   BIC:                             102.4\n",
      "Df Model:                           4                                         \n",
      "Covariance Type:            nonrobust                                         \n",
      "==============================================================================\n",
      "                 coef    std err          t      P>|t|      [0.025      0.975]\n",
      "------------------------------------------------------------------------------\n",
      "const          1.3980      0.423      3.306      0.001       0.560       2.235\n",
      "x1             0.9779      0.086     11.432      0.000       0.808       1.147\n",
      "x2            -0.1315      0.173     -0.761      0.448      -0.474       0.211\n",
      "x3             2.2063      0.334      6.613      0.000       1.546       2.867\n",
      "x4             0.5478      0.136      4.029      0.000       0.278       0.817\n",
      "==============================================================================\n",
      "Omnibus:                        0.173   Durbin-Watson:                   2.134\n",
      "Prob(Omnibus):                  0.917   Jarque-Bera (JB):                0.131\n",
      "Skew:                           0.078   Prob(JB):                        0.936\n",
      "Kurtosis:                       2.957   Cond. No.                         78.7\n",
      "==============================================================================\n",
      "\n",
      "Notes:\n",
      "[1] Standard Errors assume that the covariance matrix of the errors is correctly specified.\n"
     ]
    }
   ],
   "source": [
    "X_train2=sm.add_constant(X_train)\n",
    "model2 = sm.OLS(y_train,X_train2).fit()\n",
    "print(model2.summary())"
   ]
  },
  {
   "cell_type": "markdown",
   "id": "statistical-logan",
   "metadata": {},
   "source": [
    "# Total Model"
   ]
  },
  {
   "cell_type": "code",
   "execution_count": 14,
   "id": "threatened-thesis",
   "metadata": {},
   "outputs": [
    {
     "name": "stdout",
     "output_type": "stream",
     "text": [
      "                            OLS Regression Results                            \n",
      "==============================================================================\n",
      "Dep. Variable:                      y   R-squared:                       0.837\n",
      "Model:                            OLS   Adj. R-squared:                  0.832\n",
      "Method:                 Least Squares   F-statistic:                     185.8\n",
      "Date:                Mon, 19 Apr 2021   Prob (F-statistic):           5.33e-56\n",
      "Time:                        09:47:49   Log-Likelihood:                -48.116\n",
      "No. Observations:                 150   AIC:                             106.2\n",
      "Df Residuals:                     145   BIC:                             121.3\n",
      "Df Model:                           4                                         \n",
      "Covariance Type:            nonrobust                                         \n",
      "==============================================================================\n",
      "                 coef    std err          t      P>|t|      [0.025      0.975]\n",
      "------------------------------------------------------------------------------\n",
      "const          1.5703      0.382      4.107      0.000       0.815       2.326\n",
      "x1             0.9059      0.074     12.191      0.000       0.759       1.053\n",
      "x2            -0.0060      0.156     -0.038      0.969      -0.315       0.303\n",
      "x3             2.1126      0.304      6.949      0.000       1.512       2.714\n",
      "x4             0.5143      0.125      4.116      0.000       0.267       0.761\n",
      "==============================================================================\n",
      "Omnibus:                        0.587   Durbin-Watson:                   1.802\n",
      "Prob(Omnibus):                  0.746   Jarque-Bera (JB):                0.679\n",
      "Skew:                           0.142   Prob(JB):                        0.712\n",
      "Kurtosis:                       2.832   Cond. No.                         81.5\n",
      "==============================================================================\n",
      "\n",
      "Notes:\n",
      "[1] Standard Errors assume that the covariance matrix of the errors is correctly specified.\n"
     ]
    }
   ],
   "source": [
    "X2=sm.add_constant(X)\n",
    "model2 = sm.OLS(y,X2).fit()\n",
    "print(model2.summary())"
   ]
  },
  {
   "cell_type": "code",
   "execution_count": null,
   "id": "interpreted-asset",
   "metadata": {},
   "outputs": [],
   "source": []
  }
 ],
 "metadata": {
  "kernelspec": {
   "display_name": "Python 3",
   "language": "python",
   "name": "python3"
  },
  "language_info": {
   "codemirror_mode": {
    "name": "ipython",
    "version": 3
   },
   "file_extension": ".py",
   "mimetype": "text/x-python",
   "name": "python",
   "nbconvert_exporter": "python",
   "pygments_lexer": "ipython3",
   "version": "3.7.10"
  }
 },
 "nbformat": 4,
 "nbformat_minor": 5
}
